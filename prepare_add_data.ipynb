{
 "cells": [
  {
   "cell_type": "markdown",
   "metadata": {},
   "source": [
    "# Импорты"
   ]
  },
  {
   "cell_type": "code",
   "execution_count": 1,
   "metadata": {},
   "outputs": [],
   "source": [
    "import geojson\n",
    "import numpy as np\n",
    "import pandas as pd\n",
    "import geopandas as gpd"
   ]
  },
  {
   "cell_type": "markdown",
   "metadata": {},
   "source": [
    "# Данные по городам из OpenStreetMap"
   ]
  },
  {
   "cell_type": "code",
   "execution_count": 2,
   "metadata": {},
   "outputs": [],
   "source": [
    "with open('data/osm_data_raw.geojson', 'r', encoding='utf-8') as file:\n",
    "    osm_data = geojson.load(file)"
   ]
  },
  {
   "cell_type": "code",
   "execution_count": 3,
   "metadata": {},
   "outputs": [
    {
     "data": {
      "text/plain": [
       "dict_keys(['type', 'generator', 'copyright', 'timestamp', 'features'])"
      ]
     },
     "execution_count": 3,
     "metadata": {},
     "output_type": "execute_result"
    }
   ],
   "source": [
    "osm_data.keys()"
   ]
  },
  {
   "cell_type": "code",
   "execution_count": 4,
   "metadata": {},
   "outputs": [
    {
     "data": {
      "text/plain": [
       "78100"
      ]
     },
     "execution_count": 4,
     "metadata": {},
     "output_type": "execute_result"
    }
   ],
   "source": [
    "len(osm_data['features'])"
   ]
  },
  {
   "cell_type": "code",
   "execution_count": 5,
   "metadata": {},
   "outputs": [
    {
     "data": {
      "text/html": [
       "<div>\n",
       "<style scoped>\n",
       "    .dataframe tbody tr th:only-of-type {\n",
       "        vertical-align: middle;\n",
       "    }\n",
       "\n",
       "    .dataframe tbody tr th {\n",
       "        vertical-align: top;\n",
       "    }\n",
       "\n",
       "    .dataframe thead th {\n",
       "        text-align: right;\n",
       "    }\n",
       "</style>\n",
       "<table border=\"1\" class=\"dataframe\">\n",
       "  <thead>\n",
       "    <tr style=\"text-align: right;\">\n",
       "      <th></th>\n",
       "      <th>geometry</th>\n",
       "      <th>@id</th>\n",
       "      <th>admin_level</th>\n",
       "      <th>capital</th>\n",
       "      <th>name</th>\n",
       "      <th>name:ar</th>\n",
       "      <th>name:be</th>\n",
       "      <th>name:ca</th>\n",
       "      <th>name:cs</th>\n",
       "      <th>name:da</th>\n",
       "      <th>...</th>\n",
       "      <th>old_name:mo</th>\n",
       "      <th>old_name:sg</th>\n",
       "      <th>abandoned:village</th>\n",
       "      <th>addr:reg</th>\n",
       "      <th>old_name:inh</th>\n",
       "      <th>alt_official_name</th>\n",
       "      <th>KN</th>\n",
       "      <th>alt_name:lbe</th>\n",
       "      <th>address</th>\n",
       "      <th>tourism</th>\n",
       "    </tr>\n",
       "  </thead>\n",
       "  <tbody>\n",
       "    <tr>\n",
       "      <th>0</th>\n",
       "      <td>POINT (82.92345 55.02822)</td>\n",
       "      <td>node/54</td>\n",
       "      <td>3</td>\n",
       "      <td>3</td>\n",
       "      <td>Новосибирск</td>\n",
       "      <td>نوفوسيبيرسك</td>\n",
       "      <td>Новасібірск</td>\n",
       "      <td>Novossibirsk</td>\n",
       "      <td>Novosibirsk</td>\n",
       "      <td>Novosibirsk</td>\n",
       "      <td>...</td>\n",
       "      <td>NaN</td>\n",
       "      <td>NaN</td>\n",
       "      <td>NaN</td>\n",
       "      <td>NaN</td>\n",
       "      <td>NaN</td>\n",
       "      <td>NaN</td>\n",
       "      <td>NaN</td>\n",
       "      <td>NaN</td>\n",
       "      <td>NaN</td>\n",
       "      <td>NaN</td>\n",
       "    </tr>\n",
       "    <tr>\n",
       "      <th>1</th>\n",
       "      <td>POINT (30.52414 50.45003)</td>\n",
       "      <td>node/26150422</td>\n",
       "      <td>NaN</td>\n",
       "      <td>yes</td>\n",
       "      <td>Київ</td>\n",
       "      <td>كييف</td>\n",
       "      <td>Кіеў</td>\n",
       "      <td>Kíiv</td>\n",
       "      <td>Kyjev</td>\n",
       "      <td>Kyiv</td>\n",
       "      <td>...</td>\n",
       "      <td>NaN</td>\n",
       "      <td>NaN</td>\n",
       "      <td>NaN</td>\n",
       "      <td>NaN</td>\n",
       "      <td>NaN</td>\n",
       "      <td>NaN</td>\n",
       "      <td>NaN</td>\n",
       "      <td>NaN</td>\n",
       "      <td>NaN</td>\n",
       "      <td>NaN</td>\n",
       "    </tr>\n",
       "    <tr>\n",
       "      <th>2</th>\n",
       "      <td>POINT (31.29433 51.49410)</td>\n",
       "      <td>node/26150436</td>\n",
       "      <td>NaN</td>\n",
       "      <td>4</td>\n",
       "      <td>Чернігів</td>\n",
       "      <td>NaN</td>\n",
       "      <td>Чарнігаў</td>\n",
       "      <td>Txerníhiv</td>\n",
       "      <td>NaN</td>\n",
       "      <td>NaN</td>\n",
       "      <td>...</td>\n",
       "      <td>NaN</td>\n",
       "      <td>NaN</td>\n",
       "      <td>NaN</td>\n",
       "      <td>NaN</td>\n",
       "      <td>NaN</td>\n",
       "      <td>NaN</td>\n",
       "      <td>NaN</td>\n",
       "      <td>NaN</td>\n",
       "      <td>NaN</td>\n",
       "      <td>NaN</td>\n",
       "    </tr>\n",
       "    <tr>\n",
       "      <th>3</th>\n",
       "      <td>POINT (30.73928 46.48732)</td>\n",
       "      <td>node/26150437</td>\n",
       "      <td>NaN</td>\n",
       "      <td>4</td>\n",
       "      <td>Одеса</td>\n",
       "      <td>أوديسا</td>\n",
       "      <td>Адэса</td>\n",
       "      <td>Odessa</td>\n",
       "      <td>Oděsa</td>\n",
       "      <td>NaN</td>\n",
       "      <td>...</td>\n",
       "      <td>NaN</td>\n",
       "      <td>NaN</td>\n",
       "      <td>NaN</td>\n",
       "      <td>NaN</td>\n",
       "      <td>NaN</td>\n",
       "      <td>NaN</td>\n",
       "      <td>NaN</td>\n",
       "      <td>NaN</td>\n",
       "      <td>NaN</td>\n",
       "      <td>NaN</td>\n",
       "    </tr>\n",
       "    <tr>\n",
       "      <th>4</th>\n",
       "      <td>POINT (24.03159 49.84195)</td>\n",
       "      <td>node/26150791</td>\n",
       "      <td>4</td>\n",
       "      <td>4</td>\n",
       "      <td>Львів</td>\n",
       "      <td>لفيف</td>\n",
       "      <td>Львоў</td>\n",
       "      <td>Lviv</td>\n",
       "      <td>Lvov</td>\n",
       "      <td>NaN</td>\n",
       "      <td>...</td>\n",
       "      <td>NaN</td>\n",
       "      <td>NaN</td>\n",
       "      <td>NaN</td>\n",
       "      <td>NaN</td>\n",
       "      <td>NaN</td>\n",
       "      <td>NaN</td>\n",
       "      <td>NaN</td>\n",
       "      <td>NaN</td>\n",
       "      <td>NaN</td>\n",
       "      <td>NaN</td>\n",
       "    </tr>\n",
       "  </tbody>\n",
       "</table>\n",
       "<p>5 rows × 917 columns</p>\n",
       "</div>"
      ],
      "text/plain": [
       "                    geometry            @id admin_level capital         name  \\\n",
       "0  POINT (82.92345 55.02822)        node/54           3       3  Новосибирск   \n",
       "1  POINT (30.52414 50.45003)  node/26150422         NaN     yes         Київ   \n",
       "2  POINT (31.29433 51.49410)  node/26150436         NaN       4     Чернігів   \n",
       "3  POINT (30.73928 46.48732)  node/26150437         NaN       4        Одеса   \n",
       "4  POINT (24.03159 49.84195)  node/26150791           4       4        Львів   \n",
       "\n",
       "       name:ar      name:be       name:ca      name:cs      name:da  ...  \\\n",
       "0  نوفوسيبيرسك  Новасібірск  Novossibirsk  Novosibirsk  Novosibirsk  ...   \n",
       "1         كييف         Кіеў          Kíiv        Kyjev         Kyiv  ...   \n",
       "2          NaN     Чарнігаў     Txerníhiv          NaN          NaN  ...   \n",
       "3       أوديسا        Адэса        Odessa        Oděsa          NaN  ...   \n",
       "4         لفيف        Львоў          Lviv         Lvov          NaN  ...   \n",
       "\n",
       "  old_name:mo old_name:sg abandoned:village addr:reg old_name:inh  \\\n",
       "0         NaN         NaN               NaN      NaN          NaN   \n",
       "1         NaN         NaN               NaN      NaN          NaN   \n",
       "2         NaN         NaN               NaN      NaN          NaN   \n",
       "3         NaN         NaN               NaN      NaN          NaN   \n",
       "4         NaN         NaN               NaN      NaN          NaN   \n",
       "\n",
       "  alt_official_name   KN alt_name:lbe address tourism  \n",
       "0               NaN  NaN          NaN     NaN     NaN  \n",
       "1               NaN  NaN          NaN     NaN     NaN  \n",
       "2               NaN  NaN          NaN     NaN     NaN  \n",
       "3               NaN  NaN          NaN     NaN     NaN  \n",
       "4               NaN  NaN          NaN     NaN     NaN  \n",
       "\n",
       "[5 rows x 917 columns]"
      ]
     },
     "execution_count": 5,
     "metadata": {},
     "output_type": "execute_result"
    }
   ],
   "source": [
    "osm_data_df = gpd.GeoDataFrame.from_features(osm_data['features'])\n",
    "osm_data_df.head()"
   ]
  },
  {
   "cell_type": "code",
   "execution_count": 6,
   "metadata": {},
   "outputs": [],
   "source": [
    "properties = ['addr:country', 'name', 'name:ru', 'place', 'population', 'geometry', ]"
   ]
  },
  {
   "cell_type": "code",
   "execution_count": 7,
   "metadata": {},
   "outputs": [
    {
     "data": {
      "text/html": [
       "<div>\n",
       "<style scoped>\n",
       "    .dataframe tbody tr th:only-of-type {\n",
       "        vertical-align: middle;\n",
       "    }\n",
       "\n",
       "    .dataframe tbody tr th {\n",
       "        vertical-align: top;\n",
       "    }\n",
       "\n",
       "    .dataframe thead th {\n",
       "        text-align: right;\n",
       "    }\n",
       "</style>\n",
       "<table border=\"1\" class=\"dataframe\">\n",
       "  <thead>\n",
       "    <tr style=\"text-align: right;\">\n",
       "      <th></th>\n",
       "    </tr>\n",
       "  </thead>\n",
       "  <tbody>\n",
       "    <tr>\n",
       "      <th>0</th>\n",
       "    </tr>\n",
       "    <tr>\n",
       "      <th>1</th>\n",
       "    </tr>\n",
       "    <tr>\n",
       "      <th>2</th>\n",
       "    </tr>\n",
       "    <tr>\n",
       "      <th>3</th>\n",
       "    </tr>\n",
       "    <tr>\n",
       "      <th>4</th>\n",
       "    </tr>\n",
       "  </tbody>\n",
       "</table>\n",
       "</div>"
      ],
      "text/plain": [
       "Empty DataFrame\n",
       "Columns: []\n",
       "Index: [0, 1, 2, 3, 4]"
      ]
     },
     "execution_count": 7,
     "metadata": {},
     "output_type": "execute_result"
    }
   ],
   "source": [
    "osm_cities_df = pd.DataFrame(index=osm_data_df.index)\n",
    "osm_cities_df.head()"
   ]
  },
  {
   "cell_type": "code",
   "execution_count": 8,
   "metadata": {},
   "outputs": [
    {
     "data": {
      "text/html": [
       "<div>\n",
       "<style scoped>\n",
       "    .dataframe tbody tr th:only-of-type {\n",
       "        vertical-align: middle;\n",
       "    }\n",
       "\n",
       "    .dataframe tbody tr th {\n",
       "        vertical-align: top;\n",
       "    }\n",
       "\n",
       "    .dataframe thead th {\n",
       "        text-align: right;\n",
       "    }\n",
       "</style>\n",
       "<table border=\"1\" class=\"dataframe\">\n",
       "  <thead>\n",
       "    <tr style=\"text-align: right;\">\n",
       "      <th></th>\n",
       "      <th>country</th>\n",
       "      <th>type</th>\n",
       "      <th>name</th>\n",
       "    </tr>\n",
       "  </thead>\n",
       "  <tbody>\n",
       "    <tr>\n",
       "      <th>count</th>\n",
       "      <td>31467</td>\n",
       "      <td>78100</td>\n",
       "      <td>78034</td>\n",
       "    </tr>\n",
       "    <tr>\n",
       "      <th>unique</th>\n",
       "      <td>4</td>\n",
       "      <td>5</td>\n",
       "      <td>49646</td>\n",
       "    </tr>\n",
       "    <tr>\n",
       "      <th>top</th>\n",
       "      <td>RU</td>\n",
       "      <td>village</td>\n",
       "      <td>Александровка</td>\n",
       "    </tr>\n",
       "    <tr>\n",
       "      <th>freq</th>\n",
       "      <td>25229</td>\n",
       "      <td>68243</td>\n",
       "      <td>199</td>\n",
       "    </tr>\n",
       "  </tbody>\n",
       "</table>\n",
       "</div>"
      ],
      "text/plain": [
       "       country     type           name\n",
       "count    31467    78100          78034\n",
       "unique       4        5          49646\n",
       "top         RU  village  Александровка\n",
       "freq     25229    68243            199"
      ]
     },
     "execution_count": 8,
     "metadata": {},
     "output_type": "execute_result"
    }
   ],
   "source": [
    "osm_cities_df['country'] = osm_data_df['addr:country'].str.strip()\n",
    "osm_cities_df['type'] = osm_data_df['place'].str.strip()\n",
    "osm_cities_df['name'] = osm_data_df['name:ru'].combine_first(osm_data_df['name']).str.strip()\n",
    "osm_cities_df.describe()"
   ]
  },
  {
   "cell_type": "code",
   "execution_count": 9,
   "metadata": {},
   "outputs": [
    {
     "data": {
      "text/plain": [
       "count    5.183900e+04\n",
       "mean     3.935823e+03\n",
       "std      6.994596e+04\n",
       "min      1.000000e+00\n",
       "25%      2.780000e+02\n",
       "50%      5.260000e+02\n",
       "75%      1.127000e+03\n",
       "max      1.265505e+07\n",
       "Name: population, dtype: float64"
      ]
     },
     "execution_count": 9,
     "metadata": {},
     "output_type": "execute_result"
    }
   ],
   "source": [
    "def parse_population(input: str):\n",
    "    digit_str = input.split('(')[0].strip()\n",
    "    digit_str = ''.join(filter(str.isdigit, digit_str))\n",
    "    if digit_str.isnumeric():\n",
    "        return int(digit_str)\n",
    "    return np.nan\n",
    "\n",
    "osm_cities_df['population'] = osm_data_df['population'].astype(str).map(parse_population).replace(0, np.nan)\n",
    "osm_cities_df['population'].describe()"
   ]
  },
  {
   "cell_type": "code",
   "execution_count": 10,
   "metadata": {},
   "outputs": [],
   "source": [
    "osm_cities_df['latitude'] = osm_data_df['geometry'].x\n",
    "osm_cities_df['longitude'] = osm_data_df['geometry'].y"
   ]
  },
  {
   "cell_type": "code",
   "execution_count": 11,
   "metadata": {},
   "outputs": [],
   "source": [
    "osm_cities_df = osm_cities_df[osm_cities_df['name'].notna() & (osm_cities_df['name'].str.len() != 0)]"
   ]
  },
  {
   "cell_type": "code",
   "execution_count": 12,
   "metadata": {},
   "outputs": [],
   "source": [
    "osm_cities_df = (osm_cities_df\n",
    "                 .sort_values(['name', 'population'], ascending=[True, False])\n",
    "                 .drop_duplicates(subset=['name'], ))"
   ]
  },
  {
   "cell_type": "code",
   "execution_count": 13,
   "metadata": {},
   "outputs": [
    {
     "name": "stdout",
     "output_type": "stream",
     "text": [
      "<class 'pandas.core.frame.DataFrame'>\n",
      "Int64Index: 49645 entries, 77859 to 60681\n",
      "Data columns (total 6 columns):\n",
      " #   Column      Non-Null Count  Dtype  \n",
      "---  ------      --------------  -----  \n",
      " 0   country     21493 non-null  object \n",
      " 1   type        49645 non-null  object \n",
      " 2   name        49645 non-null  object \n",
      " 3   population  33998 non-null  float64\n",
      " 4   latitude    49645 non-null  float64\n",
      " 5   longitude   49645 non-null  float64\n",
      "dtypes: float64(3), object(3)\n",
      "memory usage: 2.7+ MB\n"
     ]
    }
   ],
   "source": [
    "osm_cities_df.info()"
   ]
  },
  {
   "cell_type": "code",
   "execution_count": 14,
   "metadata": {},
   "outputs": [],
   "source": [
    "osm_cities_df.to_csv('data/cities_info.csv', index=False)"
   ]
  }
 ],
 "metadata": {
  "interpreter": {
   "hash": "d4d1e4263499bec80672ea0156c357c1ee493ec2b1c70f0acce89fc37c4a6abe"
  },
  "kernelspec": {
   "display_name": "Python 3.9.9 64-bit ('base': conda)",
   "language": "python",
   "name": "python3"
  },
  "language_info": {
   "codemirror_mode": {
    "name": "ipython",
    "version": 3
   },
   "file_extension": ".py",
   "mimetype": "text/x-python",
   "name": "python",
   "nbconvert_exporter": "python",
   "pygments_lexer": "ipython3",
   "version": "3.9.9"
  },
  "orig_nbformat": 4
 },
 "nbformat": 4,
 "nbformat_minor": 2
}
